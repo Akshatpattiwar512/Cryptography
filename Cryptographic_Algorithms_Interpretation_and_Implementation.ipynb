{
  "nbformat": 4,
  "nbformat_minor": 0,
  "metadata": {
    "colab": {
      "name": "Cryptographic Algorithms Interpretation and Implementation",
      "provenance": [],
      "authorship_tag": "ABX9TyPbu2oET+EUnfjVzzOMIff2",
      "include_colab_link": true
    },
    "kernelspec": {
      "name": "python3",
      "display_name": "Python 3"
    },
    "language_info": {
      "name": "python"
    }
  },
  "cells": [
    {
      "cell_type": "markdown",
      "metadata": {
        "id": "view-in-github",
        "colab_type": "text"
      },
      "source": [
        "<a href=\"https://colab.research.google.com/github/Akshatpattiwar512/Cryptography/blob/main/Cryptographic_Algorithms_Interpretation_and_Implementation.ipynb\" target=\"_parent\"><img src=\"https://colab.research.google.com/assets/colab-badge.svg\" alt=\"Open In Colab\"/></a>"
      ]
    },
    {
      "cell_type": "code",
      "metadata": {
        "colab": {
          "base_uri": "https://localhost:8080/"
        },
        "id": "F1HlXy2OgOgg",
        "outputId": "3a7d7591-9b90-4b27-fc50-c5344a619331"
      },
      "source": [
        "! pip install pycryptodome"
      ],
      "execution_count": 3,
      "outputs": [
        {
          "output_type": "stream",
          "text": [
            "Collecting pycryptodome\n",
            "  Downloading pycryptodome-3.10.1-cp35-abi3-manylinux2010_x86_64.whl (1.9 MB)\n",
            "\u001b[K     |████████████████████████████████| 1.9 MB 4.0 MB/s \n",
            "\u001b[?25hInstalling collected packages: pycryptodome\n",
            "Successfully installed pycryptodome-3.10.1\n"
          ],
          "name": "stdout"
        }
      ]
    },
    {
      "cell_type": "markdown",
      "metadata": {
        "id": "H0uU31Ieo9z5"
      },
      "source": [
        "# Symmetric Algorithms\n"
      ]
    },
    {
      "cell_type": "markdown",
      "metadata": {
        "id": "Mf3cfzWBf7D6"
      },
      "source": [
        "## AES Implementation"
      ]
    },
    {
      "cell_type": "markdown",
      "metadata": {
        "id": "PWo9BRdwoogT"
      },
      "source": [
        "Import Libraries\n"
      ]
    },
    {
      "cell_type": "code",
      "metadata": {
        "id": "fKe8l_Dpfrme"
      },
      "source": [
        "from Crypto.Cipher import AES\n",
        "from base64 import b64encode, b64decode\n",
        "from Crypto import Random"
      ],
      "execution_count": 4,
      "outputs": []
    },
    {
      "cell_type": "markdown",
      "metadata": {
        "id": "SuqluW8mop4c"
      },
      "source": [
        "Message, Private key"
      ]
    },
    {
      "cell_type": "code",
      "metadata": {
        "id": "1y7SCUb8f-A-"
      },
      "source": [
        "plain_text=\"hi this is the message\"\n",
        "private_key=\"privatekey123456\""
      ],
      "execution_count": 6,
      "outputs": []
    },
    {
      "cell_type": "markdown",
      "metadata": {
        "id": "Nv__FXfkorLr"
      },
      "source": [
        "Encrypt the Data"
      ]
    },
    {
      "cell_type": "code",
      "metadata": {
        "colab": {
          "base_uri": "https://localhost:8080/"
        },
        "id": "R06GsLmlnpaN",
        "outputId": "dfa7e05c-068d-44fc-c9f5-df01638ebff1"
      },
      "source": [
        "iv = Random.new().read(AES.block_size)\n",
        "cipher = AES.new(private_key.encode(\"utf8\"), AES.MODE_CFB, iv)\n",
        "encrypted_text=cipher.encrypt(plain_text.encode(\"utf8\"))\n",
        "encrypted_text"
      ],
      "execution_count": 10,
      "outputs": [
        {
          "output_type": "execute_result",
          "data": {
            "text/plain": [
              "b'\\xa0\\x05Q\\xd1\\x19y\\x01\\x9a\\xf8x\\xc6\\x86>\\xa3\\xa3\\xa3\\x93j\\x8e\\xc08$'"
            ]
          },
          "metadata": {
            "tags": []
          },
          "execution_count": 10
        }
      ]
    },
    {
      "cell_type": "markdown",
      "metadata": {
        "id": "zNTGO8a3otxp"
      },
      "source": [
        "Decrypt the Data"
      ]
    },
    {
      "cell_type": "code",
      "metadata": {
        "colab": {
          "base_uri": "https://localhost:8080/",
          "height": 35
        },
        "id": "BWu_Vud0oQcI",
        "outputId": "a1ed60a1-6dd8-497c-e7fa-8a31b7d3552a"
      },
      "source": [
        "cipher = AES.new(private_key.encode(\"utf8\"), AES.MODE_CFB, iv)\n",
        "decrypted_text=cipher.decrypt(encrypted_text).decode(\"utf8\")\n",
        "decrypted_text"
      ],
      "execution_count": 11,
      "outputs": [
        {
          "output_type": "execute_result",
          "data": {
            "application/vnd.google.colaboratory.intrinsic+json": {
              "type": "string"
            },
            "text/plain": [
              "'hi this is the message'"
            ]
          },
          "metadata": {
            "tags": []
          },
          "execution_count": 11
        }
      ]
    },
    {
      "cell_type": "markdown",
      "metadata": {
        "id": "UH8B42XypCTE"
      },
      "source": [
        "# Asymmetric Algorithms"
      ]
    },
    {
      "cell_type": "markdown",
      "metadata": {
        "id": "T0fpbmvrqDwy"
      },
      "source": [
        "Scenario1 : Encryption with public key and Decryption with private key\n",
        "Example: RSA"
      ]
    },
    {
      "cell_type": "markdown",
      "metadata": {
        "id": "KWuctyAvpJgr"
      },
      "source": [
        "## RSA Implementation"
      ]
    },
    {
      "cell_type": "markdown",
      "metadata": {
        "id": "4su2eV1vpMJa"
      },
      "source": [
        "Import libraries"
      ]
    },
    {
      "cell_type": "code",
      "metadata": {
        "id": "zfNjJOKio5ik"
      },
      "source": [
        "from Crypto.PublicKey import RSA\n",
        "from Crypto.Cipher import PKCS1_OAEP\n",
        "from Crypto import Random"
      ],
      "execution_count": 12,
      "outputs": []
    },
    {
      "cell_type": "markdown",
      "metadata": {
        "id": "8lDluGSIpP0h"
      },
      "source": [
        "Public key, private key generation"
      ]
    },
    {
      "cell_type": "code",
      "metadata": {
        "id": "o-J1F5kopOff"
      },
      "source": [
        "random_generator = Random.new().read\n",
        "key = RSA.generate(1024, random_generator)\n",
        "private_key, public_key = key, key.publickey()"
      ],
      "execution_count": 13,
      "outputs": []
    },
    {
      "cell_type": "markdown",
      "metadata": {
        "id": "puh4B8o3pXZK"
      },
      "source": [
        "Encrypt the data"
      ]
    },
    {
      "cell_type": "code",
      "metadata": {
        "colab": {
          "base_uri": "https://localhost:8080/"
        },
        "id": "XZpvPg9LpR5m",
        "outputId": "5ed8ebf5-e5e6-4de8-9c36-bf38a2e49f54"
      },
      "source": [
        "plain_text=\"this is the message\"\n",
        "cipher = PKCS1_OAEP.new(public_key)\n",
        "encrypted_text=cipher.encrypt(plain_text.encode(\"utf8\"))\n",
        "encrypted_text"
      ],
      "execution_count": 15,
      "outputs": [
        {
          "output_type": "execute_result",
          "data": {
            "text/plain": [
              "b'Q\\x08\\xc7\\x04[[ \\xfb\\xc5\\xc6y\\x8ax\\x93T\\xf2~>\\nE?Gg!\\xb0^\\xc5w\\xca\\xf5R\\x84\\xaa\\x068\\xa8\\xb0\\xa7\\xef\\xb3\\xc1\\x08\\x7f\\xe8T]\\x8a\\x17\\xa2\\'j\\xbe\\xf1\\xac\\xb4\\xd1\\xa6\\xe31w\\x83TR(\\x96\\x84\\x96b\\xc1\\x99\\xc4&\\xef*%\\xeb\\x8d2\\x9d\\x03\\x05\\xc6\\xd7\\x08\\xa8\\xd5\\x98\\xacF\\x9c\\xec\\xe11\\xd1\\xbf\\xa3\\x01\\x84+\\x0c1h2k\\xda6\\x0e\\x8d9p\\xa9D\\xa7\\xb8Q\\x85i\\x8e\"\\x89\\xfa\\x87`Rm=\\xf4\\xa6'"
            ]
          },
          "metadata": {
            "tags": []
          },
          "execution_count": 15
        }
      ]
    },
    {
      "cell_type": "markdown",
      "metadata": {
        "id": "dA0s11xtpvr0"
      },
      "source": [
        "Decrypt the data"
      ]
    },
    {
      "cell_type": "code",
      "metadata": {
        "colab": {
          "base_uri": "https://localhost:8080/",
          "height": 35
        },
        "id": "UdGEltIPpbkf",
        "outputId": "39847c76-edf7-4b6e-825b-8101957e5dfb"
      },
      "source": [
        "cipher = PKCS1_OAEP.new(private_key)\n",
        "decrypted_text =cipher.decrypt(encrypted_text).decode(\"utf8\")\n",
        "decrypted_text"
      ],
      "execution_count": 17,
      "outputs": [
        {
          "output_type": "execute_result",
          "data": {
            "application/vnd.google.colaboratory.intrinsic+json": {
              "type": "string"
            },
            "text/plain": [
              "'this is the message'"
            ]
          },
          "metadata": {
            "tags": []
          },
          "execution_count": 17
        }
      ]
    },
    {
      "cell_type": "markdown",
      "metadata": {
        "id": "erIcJdZvqc6O"
      },
      "source": [
        "# Hashing\n"
      ]
    },
    {
      "cell_type": "markdown",
      "metadata": {
        "id": "WOOzVxCWqgbU"
      },
      "source": [
        "## MD5"
      ]
    },
    {
      "cell_type": "code",
      "metadata": {
        "colab": {
          "base_uri": "https://localhost:8080/"
        },
        "id": "HLWRJUUZpx9Y",
        "outputId": "b54cc651-7d6d-4e4d-8796-c944cb5b5e04"
      },
      "source": [
        "import hashlib \n",
        "plain_text=\"this is confidential message\"\n",
        "hashlib.md5(plain_text.encode(\"utf8\")).digest()"
      ],
      "execution_count": 19,
      "outputs": [
        {
          "output_type": "execute_result",
          "data": {
            "text/plain": [
              "b'\\xc90$R\\xfb\\xa8Z\\xec<J\\xa1\\x04Q\\xf9\\xbc\\x86'"
            ]
          },
          "metadata": {
            "tags": []
          },
          "execution_count": 19
        }
      ]
    },
    {
      "cell_type": "markdown",
      "metadata": {
        "id": "xTGgZJgOqqCK"
      },
      "source": [
        "## SHA 256"
      ]
    },
    {
      "cell_type": "code",
      "metadata": {
        "colab": {
          "base_uri": "https://localhost:8080/"
        },
        "id": "MU6eRChxqkfT",
        "outputId": "41f7b7c5-177e-4d61-99f2-5c5639c002f4"
      },
      "source": [
        "import hashlib \n",
        "plain_text=\"this is confidential message\"\n",
        "hashlib.sha256(plain_text.encode(\"utf8\")).digest()"
      ],
      "execution_count": 20,
      "outputs": [
        {
          "output_type": "execute_result",
          "data": {
            "text/plain": [
              "b'\\r\\r\\'\"\\xb5\\x86g\\xf9B\\x19J\\x15\\x1e\\xd0P\\x99-\\x8b\\x00\\rk\\x8f\\xac\\xd4\\xc9\\xc5[$Y\\xde\\xe7\\x8f'"
            ]
          },
          "metadata": {
            "tags": []
          },
          "execution_count": 20
        }
      ]
    },
    {
      "cell_type": "code",
      "metadata": {
        "id": "c7_Y2A1MrFW_"
      },
      "source": [
        ""
      ],
      "execution_count": null,
      "outputs": []
    }
  ]
}